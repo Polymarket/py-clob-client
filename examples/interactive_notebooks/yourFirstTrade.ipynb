{
 "cells": [
  {
   "cell_type": "markdown",
   "metadata": {},
   "source": [
    "General imports that we'll need\n",
    "I highly reccomend creating a virtual enviroment for all Polymarket related items as some aspect of the client require specefic versions of tools."
   ]
  },
  {
   "cell_type": "code",
   "execution_count": 1,
   "metadata": {},
   "outputs": [],
   "source": [
    "from py_clob_client.client import ClobClient\n",
    "from py_clob_client.clob_types import OrderArgs, PartialCreateOrderOptions, MarketOrderArgs, OrderScoringParams, OpenOrderParams\n",
    "from py_clob_client.order_builder.constants import BUY, SELL\n",
    "from py_clob_client.exceptions import PolyApiException\n",
    "from math import floor"
   ]
  },
  {
   "cell_type": "markdown",
   "metadata": {},
   "source": [
    "Now lets set up the variables we'll need to initialize the client. "
   ]
  },
  {
   "cell_type": "markdown",
   "metadata": {},
   "source": [
    "Here are what the following variables represent:\n",
    "funder: The Polymarket address associated with the browser wallet login OR the email login.\n",
    "host: the Polymarket CLOB endpoint https://clob.polymarket.com\n",
    "key: The private key exported from Magic that is associated with the account OR The private key exported from the Browser Wallet that is associated with the account\n",
    "    If you use the email login you need to visit https://reveal.magic.link/\n",
    "    If you use metamask/web3 login you need to export the private key from that application. \n",
    "chain_id: For the majority of use cases this can be safely set to 137(Polygon Mainnet)\n",
    "signature_type: Again, generally this will be 1\n",
    "\n"
   ]
  },
  {
   "cell_type": "code",
   "execution_count": 2,
   "metadata": {},
   "outputs": [],
   "source": [
    "funder = \"\" #The Funder is the adress as seen on your Polymarket profile.\n",
    "host = \"https://clob.polymarket.com\"\n",
    "key = \"\" #This is your private key. See above for details \n",
    "chain_id = 137\n",
    "signature_type = 1"
   ]
  },
  {
   "cell_type": "code",
   "execution_count": 3,
   "metadata": {},
   "outputs": [],
   "source": [
    "client = ClobClient(\n",
    "host,               # the polymarket host\n",
    "key=key,            # your private key exported from magic/polymarket\n",
    "chain_id=chain_id,  # 137\n",
    "signature_type=1,   # this type of config requires this signature type\n",
    "funder=funder) # this is your polymarket public address (where you send the usdc)\n"
   ]
  },
  {
   "cell_type": "markdown",
   "metadata": {},
   "source": [
    "In the documentation you'll find the ability to export, save or generate API creds. This is generally unnecesary but nice to have. The below code handles creating new keys if neccesary or using existing ones if keys do exist. "
   ]
  },
  {
   "cell_type": "code",
   "execution_count": 4,
   "metadata": {},
   "outputs": [],
   "source": [
    "client.set_api_creds(client.create_or_derive_api_creds())\n"
   ]
  },
  {
   "cell_type": "markdown",
   "metadata": {},
   "source": [
    "In order to follow DRY(DON'T REPEAT YOURSELF) principles lets create a simple function that can handle Buying and Selling for us. \n",
    "The function takes an action \"BUY\" or \"SELL\", a TOKENId and the number of shares to buy. To find a token ID please see the \"Market Info\" Notebook. "
   ]
  },
  {
   "cell_type": "code",
   "execution_count": 10,
   "metadata": {},
   "outputs": [],
   "source": [
    "#In production you absolutely need try/catch blocks here but for the purposes of simplicity we're ignoring that neccesity for now. \n",
    "def buy_sell_limit_order(action: str, tokenID: str, numShares: int, price: float = .99, neg_risk_status: bool = False):\n",
    "    if action == 'BUY':\n",
    "        order_args = OrderArgs(\n",
    "            token_id=tokenID,\n",
    "            side='BUY',\n",
    "            size=floor(numShares),\n",
    "            price=price\n",
    "            )\n",
    "        signed_order = client.create_order(order_args, PartialCreateOrderOptions(neg_risk=neg_risk_status))\n",
    "    elif action == 'SELL':\n",
    "        order_args = OrderArgs(\n",
    "            token_id=tokenID,\n",
    "            side='SELL',\n",
    "            price=price,#hardcode for sell\n",
    "            size=numShares #will be shares in this case\n",
    "                        )\n",
    "        signed_order = client.create_order(order_args, PartialCreateOrderOptions(neg_risk=neg_risk_status))\n",
    "    else: \n",
    "        print(f\"Invalid action. Action recieved: {action}\")\n",
    "        return\n",
    "\n",
    "\n",
    "    #NotEnough balance/allowance can mean that you dont have enough shares \n",
    "    #invalid sig can mean its negrisk or your funder is \n",
    "    resp = client.post_order(signed_order)\n",
    "    print(f\"Order Response: {resp}\")\n"
   ]
  },
  {
   "cell_type": "markdown",
   "metadata": {},
   "source": [
    "Couple notes on the above function. These are limit orders so you'll need to specify the price you're willing to buy or sell at and the number of shares to buy/sell at theat price. You also need to specify rather a market is negative risk or not. Check the docs for details on that but in basic terms if there are multiple mutually exclusive outcomes(2+) the market is neg_risk. "
   ]
  },
  {
   "cell_type": "code",
   "execution_count": 14,
   "metadata": {},
   "outputs": [
    {
     "name": "stdout",
     "output_type": "stream",
     "text": [
      "Order Response: {'errorMsg': '', 'orderID': '0xb234bd04fe355e6f0579069434b1ff0f172121cccff13f569f3e01d3318faa8a', 'takingAmount': '', 'makingAmount': '', 'status': 'live', 'transactionsHashes': None, 'success': True}\n"
     ]
    }
   ],
   "source": [
    "buy_sell_limit_order('BUY',\"55339638397443112919791846485253629869798811464400272253569648598507361954673\",5,price=.01,neg_risk_status=False)"
   ]
  }
 ],
 "metadata": {
  "kernelspec": {
   "display_name": "firecontrol",
   "language": "python",
   "name": "python3"
  },
  "language_info": {
   "codemirror_mode": {
    "name": "ipython",
    "version": 3
   },
   "file_extension": ".py",
   "mimetype": "text/x-python",
   "name": "python",
   "nbconvert_exporter": "python",
   "pygments_lexer": "ipython3",
   "version": "3.10.13"
  },
  "orig_nbformat": 4
 },
 "nbformat": 4,
 "nbformat_minor": 2
}
